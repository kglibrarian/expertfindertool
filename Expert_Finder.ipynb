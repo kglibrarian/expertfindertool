{
 "cells": [
  {
   "cell_type": "code",
   "execution_count": null,
   "metadata": {},
   "outputs": [],
   "source": [
    "## Dependencies\n",
    "import os\n",
    "import pandas as pd\n"
   ]
  },
  {
   "cell_type": "code",
   "execution_count": null,
   "metadata": {},
   "outputs": [],
   "source": [
    "## Save path to data set in a variable\n",
    "fsm_elements_publications_path = \"data/2022_02-07 FSM Publications.csv\"\n",
    "\n",
    "## Use Pandas to read data\n",
    "fsm_elements_df = pd.read_csv(fsm_elements_publications_path, encoding = \"ISO-8859-1\", na_values=['NULL'], dtype={'PubMed ID': 'Int64'})\n",
    "\n",
    "## Print result\n",
    "# fsm_elements_df.head()\n",
    "\n",
    "## Review result\n",
    "# fsm_elements_df.count()\n",
    "fsm_elements_df.dtypes"
   ]
  },
  {
   "cell_type": "code",
   "execution_count": null,
   "metadata": {},
   "outputs": [],
   "source": [
    "## Save path to data set in a variable\n",
    "search_result_path = \"data/2022_02-07 Homeless Docs.csv\"\n",
    "search_result_path_1 = \"data/2022_02-07 Homeless IS Docs.csv\"\n",
    "search_result_path_2 = \"data/2022_02-07 IS Docs.csv\"\n",
    "search_result_path_3 = \"data/2022_02-07 STD Docs.csv\"\n",
    "search_result_path_4 = \"data/2022_02-07 STD IS Docs.csv\"\n",
    "\n",
    "## Use Pandas to read data\n",
    "# search_result_df = pd.read_csv(search_result_path, encoding = \"ISO-8859-1\", na_values=['NULL'], dtype={'PubMed Id ': int})\n",
    "# search_result_df = pd.read_csv(search_result_path_1, encoding = \"ISO-8859-1\", na_values=['NULL'], dtype={'PubMed Id ': int})\n",
    "# search_result_df = pd.read_csv(search_result_path_2, encoding = \"ISO-8859-1\", na_values=['NULL'],  dtype={'PubMed Id ': int})\n",
    "# search_result_df = pd.read_csv(search_result_path_3, encoding = \"ISO-8859-1\", na_values=['NULL'], dtype={'PubMed Id ': int})\n",
    "# search_result_df = pd.read_csv(search_result_path_4, encoding = \"ISO-8859-1\", na_values=['NULL'], dtype={'PubMed Id ': int})\n",
    "\n",
    "## Print result\n",
    "# search_result_df.head()\n",
    "\n",
    "## Review columns\n",
    "search_result_df.columns"
   ]
  },
  {
   "cell_type": "code",
   "execution_count": null,
   "metadata": {},
   "outputs": [],
   "source": [
    "## Save search result DOIs into list\n",
    "\n",
    "search_result_doi_list = search_result_df['DOI'].tolist()\n",
    "cleaned_search_result_doi_list = [x for x in search_result_doi_list if str(x) != 'nan']\n",
    "\n",
    "## Print result\n",
    "print(search_result_doi_list)\n",
    "\n",
    "## Print result type\n",
    "# print(type(search_result_doi_list))"
   ]
  },
  {
   "cell_type": "code",
   "execution_count": null,
   "metadata": {},
   "outputs": [],
   "source": [
    "## Save search result PMIDs into list\n",
    "\n",
    "search_result_pmid_list = search_result_df['Pubmed Id'].tolist()\n",
    "cleaned_search_result_pmid_list = [int(x) for x in search_result_pmid_list if str(x) != 'nan']\n",
    "\n",
    "## Print result\n",
    "print(cleaned_search_result_pmid_list)\n",
    "\n",
    "## Print result type\n",
    "# print(type(cleaned_search_result_pmid_list))"
   ]
  },
  {
   "cell_type": "code",
   "execution_count": null,
   "metadata": {},
   "outputs": [],
   "source": [
    "## Save search result PMIDs into list\n",
    "\n",
    "search_result_ut_list = search_result_df['UT (Unique WOS ID)'].tolist()\n",
    "cleaned_search_result_ut_list = [x for x in search_result_ut_list if str(x) != 'nan']\n",
    "\n",
    "\n",
    "## Print result\n",
    "print(search_result_ut_list)\n",
    "\n",
    "## Print result type\n",
    "# print(type(search_result_ut_list))"
   ]
  },
  {
   "cell_type": "code",
   "execution_count": null,
   "metadata": {},
   "outputs": [],
   "source": [
    "## Create new columns to compare search result list to FSM Elements publications\n",
    "\n",
    "fsm_elements_df[\"DOI in Search Result\"] = fsm_elements_df[\"DOI\"].isin(cleaned_search_result_doi_list).astype(int)\n",
    "fsm_elements_df[\"PMID in Search Result\"] = fsm_elements_df[\"PubMed ID\"].isin(cleaned_search_result_pmid_list).astype(int)\n",
    "fsm_elements_df[\"UT in Search Result\"] = fsm_elements_df[\"Web of Science Article ID\"].isin(cleaned_search_result_ut_list).astype(int)\n",
    "fsm_elements_df.head(20)"
   ]
  },
  {
   "cell_type": "code",
   "execution_count": null,
   "metadata": {},
   "outputs": [],
   "source": [
    "## If any id is in search results, mark in new column called \"Any pub in Search Result\"\n",
    "\n",
    "fsm_elements_df[\"Any pub in Search Result\"] = (fsm_elements_df[\"DOI in Search Result\"] | fsm_elements_df[\"PMID in Search Result\"] | fsm_elements_df[\"UT in Search Result\"]).astype(int)\n",
    "fsm_elements_df.head()"
   ]
  },
  {
   "cell_type": "code",
   "execution_count": null,
   "metadata": {},
   "outputs": [],
   "source": [
    "fsm_elements_df.dtypes"
   ]
  },
  {
   "cell_type": "code",
   "execution_count": null,
   "metadata": {},
   "outputs": [],
   "source": [
    "# df.drop(df.index[df['myvar'] == 'specific_name'], inplace = True)\n",
    "\n",
    "dropna_df = fsm_elements_df.loc[fsm_elements_df['Any pub in Search Result'] == 1,: ]\n",
    "dropna_df.head()\n",
    "\n",
    "dropna_df.dtypes"
   ]
  },
  {
   "cell_type": "code",
   "execution_count": null,
   "metadata": {},
   "outputs": [],
   "source": [
    "## Group by NetID and sum number of pubs from search results\n",
    "\n",
    "groupby_df = dropna_df.groupby('Net ID').agg({'Any pub in Search Result': 'sum', \n",
    "                                                       'Name' : 'min',\n",
    "                                                       'Position': 'min', \n",
    "                                                       'Department': 'min', \n",
    "                                                       'School': 'min',\n",
    "                                                       'Is Current? 0=No': 'min',\n",
    "                                                       'Is Academic? 0=No' : 'min',\n",
    "                                                       'DOI':lambda x: list(x),\n",
    "                                                       'PubMed ID':lambda x: list(x)\n",
    "                                              \n",
    "#                                                     list(map(int, x))\n",
    "                                                      }).reset_index().sort_values(by=['Any pub in Search Result'], ascending=False).rename(columns={\"Any pub in Search Result\": \"Sum of pubs in Search Result\"})\n",
    "groupby_df.head()"
   ]
  },
  {
   "cell_type": "code",
   "execution_count": null,
   "metadata": {},
   "outputs": [],
   "source": [
    "# Export file as a CSV, without the Pandas index, but with the header\n",
    "groupby_df.to_csv(\"data/expert_finder.csv\", index=False, header=True)"
   ]
  },
  {
   "cell_type": "code",
   "execution_count": null,
   "metadata": {},
   "outputs": [],
   "source": []
  },
  {
   "cell_type": "code",
   "execution_count": null,
   "metadata": {},
   "outputs": [],
   "source": []
  }
 ],
 "metadata": {
  "kernelspec": {
   "display_name": "Python 3",
   "language": "python",
   "name": "python3"
  },
  "language_info": {
   "codemirror_mode": {
    "name": "ipython",
    "version": 3
   },
   "file_extension": ".py",
   "mimetype": "text/x-python",
   "name": "python",
   "nbconvert_exporter": "python",
   "pygments_lexer": "ipython3",
   "version": "3.7.11"
  }
 },
 "nbformat": 4,
 "nbformat_minor": 4
}
